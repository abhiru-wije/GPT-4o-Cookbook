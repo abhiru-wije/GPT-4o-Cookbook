{
 "cells": [
  {
   "cell_type": "code",
   "execution_count": 2,
   "metadata": {},
   "outputs": [
    {
     "name": "stdout",
     "output_type": "stream",
     "text": [
      "Assistant: හෙලෝ තිලිනා! Agent Zappy වලට සාදරයෙන් පිළිගන්නවා. මේක වාහන කර්මාන්තයේ ජ්‍යෙෂ්ඨ කළමනාකරුවන්ට පාරිභෝගික සංවාද වේගවත් කරගන්න හදපු වේදිකාවක්. 24/7 එකෙන්ම පිළිතුරු දීම, සංකල්ප සම්බන්ධිත ඊ-මේල්/එස්එම්එස් අලෙවිකරණය, සහ වැඩිමහල් වෙන්කරීම්වලට මිනිස් මනසක් මෙන්ම AI ඇමතුම්වලට ඇති පහසුකම් සමග, අපේ වේදිකාව හැම පොරොන්දුවක්ම දියුණු කරයි. වැඩි විස්තර සහ ඩෙමො එකක් සඳහා www.agentzappy.com/signup වෙත පිවිසෙන්න.\n"
     ]
    }
   ],
   "source": [
    "# Basic chat Message using API\n",
    "\n",
    "from openai import OpenAI \n",
    "import os\n",
    "\n",
    "MODEL=\"gpt-4o\"\n",
    "client = OpenAI(api_key=os.environ.get(\"OPENAI_API_KEY\"))\n",
    "\n",
    "completion = client.chat.completions.create(\n",
    "  model=MODEL,\n",
    "  messages=[\n",
    "    {\"role\": \"system\", \"content\": \"You are a helpful assistant for language translation. Help me with convert to casual tone and conversational to sinhala language\"},\n",
    "    {\"role\": \"user\", \"content\": \"Hi Thilina! Welcome to Agent Zappy, a platform designed to help senior managers in the automotive industry streamline customer communications. With features such as 24/7 instant replies, conversational email/SMS marketing, and human-like AI calling for appointment bookings, our platform ensures no lead or query goes unanswered. Sign up at www.agentzappy.com/signup for a demo or more information\"}\n",
    "  ]\n",
    ")\n",
    "print(\"Assistant: \" + completion.choices[0].message.content)"
   ]
  },
  {
   "cell_type": "code",
   "execution_count": 4,
   "metadata": {},
   "outputs": [
    {
     "name": "stdout",
     "output_type": "stream",
     "text": [
      "To find the area of the triangle \\( \\triangle ABC \\), you can use the formula for the area of a triangle:\n",
      "\n",
      "\\[ \\text{Area} = \\frac{1}{2} \\times \\text{base} \\times \\text{height} \\]\n",
      "\n",
      "In the given triangle, \\( AB \\) is the base \\( c \\), and \\( CD \\) is the height \\( h \\).\n",
      "\n",
      "So, the area \\( A \\) of the triangle is:\n",
      "\n",
      "\\[ A = \\frac{1}{2} \\times c \\times h \\]\n",
      "\n",
      "To find the exact area, you need the values of \\( c \\) (the length of \\( AB \\)) and \\( h \\) (the length of \\( CD \\)). If you have these values, you can substitute them into the formula to get the area.\n"
     ]
    }
   ],
   "source": [
    "# Image processing with Base64\n",
    "\n",
    "import base64\n",
    "\n",
    "image_path = \"images.png\"\n",
    "\n",
    "def encode_image(image_path):\n",
    "    with open(image_path, \"rb\") as img_file:\n",
    "        return base64.b64encode(img_file.read()).decode(\"utf-8\")\n",
    "    \n",
    "base64_image = encode_image(image_path)\n",
    "\n",
    "response = client.chat.completions.create(\n",
    "    model=MODEL,\n",
    "    messages=[\n",
    "        {\"role\": \"system\", \"content\": \"You are a helpful assistant that responds in Markdown. Help me with my math homework!\"},\n",
    "        {\"role\": \"user\", \"content\": [\n",
    "            {\"type\": \"text\", \"text\": \"What's the area of the triangle?\"},\n",
    "            {\"type\": \"image_url\", \"image_url\": {\"url\": f\"data:image/png;base64,{base64_image}\"}\n",
    "            }\n",
    "        ]}\n",
    "    ],\n",
    "    temperature=0.0,\n",
    ")\n",
    "print(response.choices[0].message.content)"
   ]
  },
  {
   "cell_type": "code",
   "execution_count": 6,
   "metadata": {},
   "outputs": [
    {
     "name": "stdout",
     "output_type": "stream",
     "text": [
      "To find the area of the triangle \\( \\triangle ABC \\), we can use the formula for the area of a triangle:\n",
      "\n",
      "\\[ \\text{Area} = \\frac{1}{2} \\times \\text{base} \\times \\text{height} \\]\n",
      "\n",
      "In the given triangle, \\( AB = c \\) is the base, and \\( CD = h \\) is the height.\n",
      "\n",
      "So, the area of \\( \\triangle ABC \\) is:\n",
      "\n",
      "\\[ \\text{Area} = \\frac{1}{2} \\times c \\times h \\]\n",
      "\n",
      "Thus, the area of the triangle is \\( \\frac{1}{2} \\times c \\times h \\).\n"
     ]
    }
   ],
   "source": [
    "# Image processing using URL\n",
    "\n",
    "response = client.chat.completions.create(\n",
    "    model=MODEL,\n",
    "    messages=[\n",
    "        {\"role\": \"system\", \"content\": \"You are a helpful assistant that responds in Markdown. Help me with my math homework!\"},\n",
    "        {\"role\": \"user\", \"content\": [\n",
    "            {\"type\": \"text\", \"text\": \"What's the area of the triangle?\"},\n",
    "            {\"type\": \"image_url\", \"image_url\": {\"url\": \"https://static.tutors.com/assets/images/content/tutors-right-triangle-altitude-theorem.jpg\"}}\n",
    "        ]}\n",
    "    ],\n",
    "    temperature=0.0,\n",
    ")\n",
    "print(response.choices[0].message.content)"
   ]
  },
  {
   "cell_type": "code",
   "execution_count": 9,
   "metadata": {},
   "outputs": [
    {
     "name": "stdout",
     "output_type": "stream",
     "text": [
      "MoviePy - Writing audio in video.mp3\n"
     ]
    },
    {
     "name": "stderr",
     "output_type": "stream",
     "text": [
      "                                                                      \r"
     ]
    },
    {
     "name": "stdout",
     "output_type": "stream",
     "text": [
      "MoviePy - Done.\n",
      "Extracted 199 frames\n",
      "Extracted audio to video.mp3\n",
      "The video appears to be an educational tutorial involving two individuals, likely a teacher and a student, discussing a mathematical concept. The frames show them sitting at a table with a tablet displaying a geometric diagram, specifically a triangle. The person on the right, who seems to be the instructor, is explaining the concept while the student on the left listens and takes notes. The tablet screen shows various geometric shapes and annotations, indicating that the lesson involves geometry, possibly focusing on the properties of triangles. The student is engaged, asking questions, and the instructor is providing detailed explanations, using the tablet to illustrate points visually. The atmosphere is focused and educational.\n"
     ]
    }
   ],
   "source": [
    "# Summarization: video summary\n",
    "import cv2\n",
    "from moviepy.editor import VideoFileClip\n",
    "import time\n",
    "import base64\n",
    "\n",
    "VIDEO_PATH = \"video.mp4\"\n",
    "\n",
    "def process_video(video_path, seconds_per_frame=2):\n",
    "    base64Frames = []\n",
    "    base_video_path, _ = os.path.splitext(video_path)\n",
    "    \n",
    "    video = cv2.VideoCapture(video_path)\n",
    "    total_frames = int(video.get(cv2.CAP_PROP_FRAME_COUNT))\n",
    "    fps = video.get(cv2.CAP_PROP_FPS)\n",
    "    frames_to_skip = int(fps * seconds_per_frame)\n",
    "    curr_frames = 0\n",
    "    \n",
    "    while curr_frames < total_frames:\n",
    "        video.set(cv2.CAP_PROP_POS_FRAMES, curr_frames)\n",
    "        success, frame = video.read()\n",
    "        if not success:\n",
    "            break\n",
    "        _, buffer = cv2.imencode(\".jpg\", frame)\n",
    "        base64Frames.append(base64.b64encode(buffer).decode(\"utf-8\"))\n",
    "        curr_frames += frames_to_skip\n",
    "    video.release()\n",
    "    \n",
    "    audio_path = f\"{base_video_path}.mp3\"\n",
    "    clip = VideoFileClip(video_path)\n",
    "    clip.audio.write_audiofile(audio_path, bitrate=\"32k\")\n",
    "    clip.audio.close()\n",
    "    clip.close()\n",
    "\n",
    "    print(f\"Extracted {len(base64Frames)} frames\")\n",
    "    print(f\"Extracted audio to {audio_path}\")\n",
    "    return base64Frames, audio_path\n",
    "\n",
    "base64Frames, audio_path = process_video(VIDEO_PATH, seconds_per_frame=1)\n",
    "\n",
    "response = client.chat.completions.create(\n",
    "    model=MODEL,\n",
    "    messages=[\n",
    "    {\"role\": \"system\", \"content\": \"You are generating a video summary. Please provide a summary of the video. Respond in Markdown.\"},\n",
    "    {\"role\": \"user\", \"content\": [\n",
    "        \"These are the frames from the video.\",\n",
    "        *map(lambda x: {\"type\": \"image_url\", \n",
    "                        \"image_url\": {\"url\": f'data:image/jpg;base64,{x}', \"detail\": \"low\"}}, base64Frames)\n",
    "        ],\n",
    "    }\n",
    "    ],\n",
    "    temperature=0,\n",
    ")\n",
    "print(response.choices[0].message.content)"
   ]
  },
  {
   "cell_type": "code",
   "execution_count": 10,
   "metadata": {},
   "outputs": [
    {
     "name": "stdout",
     "output_type": "stream",
     "text": [
      "OpenAI invited me and my son Imran to test their new technology, specifically for tutoring math on Khan Academy. We started by loading the program and sharing our screen. I asked the AI to tutor my son on a math problem without giving him the answer directly, but by guiding him through questions.\n",
      "\n",
      "The AI began by asking Imran to identify the sides of a triangle relative to angle alpha. Imran correctly identified the hypotenuse after some guidance, recognizing it as the longest side opposite the right angle. He then identified the adjacent and opposite sides correctly.\n",
      "\n",
      "Next, the AI asked Imran to recall the formula for the sine of an angle in a right triangle, which he correctly stated as the opposite side over the hypotenuse. Imran applied this formula using the side lengths provided, calculating sine alpha as 7/25. The AI confirmed his answer and praised his understanding, offering further assistance if needed.\n"
     ]
    }
   ],
   "source": [
    "# Summarization: audio summary\n",
    "\n",
    "transcription = client.audio.transcriptions.create(\n",
    "    model=\"whisper-1\",\n",
    "    file=open(audio_path, \"rb\"),\n",
    ")\n",
    "\n",
    "response = client.chat.completions.create(\n",
    "    model=MODEL,\n",
    "    messages=[\n",
    "    {\"role\": \"system\", \"content\":\"\"\"You are generating a transcript summary. Create a summary of the provided transcription. Respond in Markdown.\"\"\"},\n",
    "    {\"role\": \"user\", \"content\": [\n",
    "        {\"type\": \"text\", \"text\": f\"The audio transcription is: {transcription.text}\"}\n",
    "        ],\n",
    "    }\n",
    "    ],\n",
    "    temperature=0,\n",
    ")\n",
    "print(response.choices[0].message.content)"
   ]
  },
  {
   "cell_type": "code",
   "execution_count": 11,
   "metadata": {},
   "outputs": [
    {
     "name": "stdout",
     "output_type": "stream",
     "text": [
      "### Video Summary\n",
      "\n",
      "In this video, OpenAI invited a father and his son, Imran, to test out their new technology for tutoring math on Khan Academy. The father introduces the scenario and asks the AI to tutor his son on a math problem without giving away the answers directly. The AI engages with Imran, guiding him through identifying the sides of a right triangle relative to a given angle, alpha.\n",
      "\n",
      "1. **Identifying the Hypotenuse**:\n",
      "   - The AI asks Imran to identify the hypotenuse of the triangle.\n",
      "   - Imran initially guesses incorrectly but is then guided to understand that the hypotenuse is the longest side opposite the right angle.\n",
      "   - Imran correctly identifies side AB as the hypotenuse.\n",
      "\n",
      "2. **Identifying the Opposite Side**:\n",
      "   - The AI then asks Imran to identify the opposite side relative to angle alpha.\n",
      "   - Imran deduces that side BC is the opposite side after confirming the hypotenuse and adjacent sides.\n",
      "\n",
      "3. **Applying the Sine Formula**:\n",
      "   - The AI asks Imran if he remembers the formula for the sine of an angle in a right triangle.\n",
      "   - Imran correctly states that sine is equal to the opposite side over the hypotenuse.\n",
      "   - He applies the formula to find sine alpha, using the lengths of the sides he identified (7 for BC and 25 for AB), resulting in 7/25.\n",
      "\n",
      "Throughout the session, the AI provides positive reinforcement and ensures that Imran understands each step before moving on. The interaction demonstrates the AI's capability to tutor students by asking guiding questions and providing hints rather than direct answers.\n"
     ]
    }
   ],
   "source": [
    "# Summarization: Audio + Visual Summary\n",
    "\n",
    "response = client.chat.completions.create(\n",
    "    model=MODEL,\n",
    "    messages=[\n",
    "    {\"role\": \"system\", \"content\":\"\"\"You are generating a video summary. Create a summary of the provided video and its transcript. Respond in Markdown\"\"\"},\n",
    "    {\"role\": \"user\", \"content\": [\n",
    "        \"These are the frames from the video.\",\n",
    "        *map(lambda x: {\"type\": \"image_url\", \n",
    "                        \"image_url\": {\"url\": f'data:image/jpg;base64,{x}', \"detail\": \"low\"}}, base64Frames),\n",
    "                        {\"type\": \"text\", \"text\": f\"The audio transcription is: {transcription.text}\"}\n",
    "        ],\n",
    "    }\n",
    "],\n",
    "    temperature=0,\n",
    ")\n",
    "print(response.choices[0].message.content)"
   ]
  },
  {
   "cell_type": "code",
   "execution_count": 12,
   "metadata": {},
   "outputs": [
    {
     "name": "stdout",
     "output_type": "stream",
     "text": [
      "Visual QA:\n",
      "Based on the frames from the video, it appears that Sam Altman is explaining a concept, likely related to technology or user experience, to a younger individual. The example about raising windows and turning the radio on is probably used to illustrate a point about automation, user control, or the integration of multiple functions in a system. This kind of example is often used to make abstract or complex ideas more relatable and easier to understand by connecting them to everyday experiences.\n"
     ]
    }
   ],
   "source": [
    "# Q&A: Visual Q&A\n",
    "\n",
    "QUESTION = \"Question: Why did Sam Altman have an example about raising windows and turning the radio on?\"\n",
    "\n",
    "qa_visual_response = client.chat.completions.create(\n",
    "    model=MODEL,\n",
    "    messages=[\n",
    "    {\"role\": \"system\", \"content\": \"Use the video to answer the provided question. Respond in Markdown.\"},\n",
    "    {\"role\": \"user\", \"content\": [\n",
    "        \"These are the frames from the video.\",\n",
    "        *map(lambda x: {\"type\": \"image_url\", \"image_url\": {\"url\": f'data:image/jpg;base64,{x}', \"detail\": \"low\"}}, base64Frames),\n",
    "        QUESTION\n",
    "        ],\n",
    "    }\n",
    "    ],\n",
    "    temperature=0,\n",
    ")\n",
    "print(\"Visual QA:\\n\" + qa_visual_response.choices[0].message.content)"
   ]
  },
  {
   "cell_type": "code",
   "execution_count": 13,
   "metadata": {},
   "outputs": [
    {
     "name": "stdout",
     "output_type": "stream",
     "text": [
      "Audio QA:\n",
      "The transcription provided does not mention Sam Altman or any example about raising windows and turning the radio on. The content focuses on a tutoring session involving math problems related to identifying sides of a triangle and calculating the sine of an angle. Therefore, I cannot provide an answer to the question based on the given transcription.\n"
     ]
    }
   ],
   "source": [
    "# Q&A: Audio Q&A\n",
    "\n",
    "qa_audio_response = client.chat.completions.create(\n",
    "    model=MODEL,\n",
    "    messages=[\n",
    "    {\"role\": \"system\", \"content\":\"\"\"Use the transcription to answer the provided question. Respond in Markdown.\"\"\"},\n",
    "    {\"role\": \"user\", \"content\": f\"The audio transcription is: {transcription.text}. \\n\\n {QUESTION}\"},\n",
    "    ],\n",
    "    temperature=0,\n",
    ")\n",
    "print(\"Audio QA:\\n\" + qa_audio_response.choices[0].message.content)"
   ]
  },
  {
   "cell_type": "code",
   "execution_count": 14,
   "metadata": {},
   "outputs": [
    {
     "name": "stdout",
     "output_type": "stream",
     "text": [
      "Both QA:\n",
      "The frames and transcription provided do not contain any mention of Sam Altman or an example about raising windows and turning the radio on. The content focuses on a tutoring session where a father and his son are using OpenAI's technology to solve a math problem involving identifying the sides of a triangle and calculating the sine of an angle. \n",
      "\n",
      "If you have any additional context or specific details about Sam Altman's example, please provide them so I can assist you better.\n"
     ]
    }
   ],
   "source": [
    "# Q&A: Visual + Audio Q&A\n",
    "\n",
    "qa_both_response = client.chat.completions.create(\n",
    "    model=MODEL,\n",
    "    messages=[\n",
    "    {\"role\": \"system\", \"content\":\"\"\"Use the video and transcription to answer the provided question.\"\"\"},\n",
    "    {\"role\": \"user\", \"content\": [\n",
    "        \"These are the frames from the video.\",\n",
    "        *map(lambda x: {\"type\": \"image_url\", \n",
    "                        \"image_url\": {\"url\": f'data:image/jpg;base64,{x}', \"detail\": \"low\"}}, base64Frames),\n",
    "                        {\"type\": \"text\", \"text\": f\"The audio transcription is: {transcription.text}\"},\n",
    "        QUESTION\n",
    "        ],\n",
    "    }\n",
    "    ],\n",
    "    temperature=0,\n",
    ")\n",
    "print(\"Both QA:\\n\" + qa_both_response.choices[0].message.content)"
   ]
  }
 ],
 "metadata": {
  "kernelspec": {
   "display_name": "prod",
   "language": "python",
   "name": "python3"
  },
  "language_info": {
   "codemirror_mode": {
    "name": "ipython",
    "version": 3
   },
   "file_extension": ".py",
   "mimetype": "text/x-python",
   "name": "python",
   "nbconvert_exporter": "python",
   "pygments_lexer": "ipython3",
   "version": "3.10.14"
  }
 },
 "nbformat": 4,
 "nbformat_minor": 2
}
